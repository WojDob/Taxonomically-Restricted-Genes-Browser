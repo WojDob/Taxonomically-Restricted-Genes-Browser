{
 "cells": [
  {
   "cell_type": "markdown",
   "metadata": {},
   "source": [
    "CREATED: 2021-12-22\n",
    "What % of all proteins are specific (separately species and genus)\n",
    "How many specific genes are there \n",
    "  on average\n",
    "  min\n",
    "  max\n",
    "  standard deviation\n",
    "  histogram\n",
    "  quartiles\n",
    "For each species:\n",
    "  how many genes are specific - both count and percentage\n",
    "  top 10\n",
    "  bottom 10"
   ]
  },
  {
   "cell_type": "code",
   "execution_count": 2,
   "metadata": {},
   "outputs": [],
   "source": [
    "import json\n",
    "from pprint import pprint\n",
    "\n",
    "try:\n",
    "    metadata_file = open(\"../data/metadata.json\", \"r\")\n",
    "except FileNotFoundError:\n",
    "    print(\"\\033[91m\\n\" + \"No metadata file found, aborting\" + \"\\n\\033[0m\")\n",
    "\n",
    "try:\n",
    "    trg_file = open(\"../large_data/trg.json\", \"r\")\n",
    "except FileNotFoundError:\n",
    "    print(\"\\033[91m\\n\" + \"No trg file found, aborting\" + \"\\n\\033[0m\")\n",
    "metadata = json.load(metadata_file)\n",
    "specific_genes_data = json.load(trg_file)\n",
    "\n",
    "metadata_file.close()\n",
    "trg_file.close()\n"
   ]
  },
  {
   "cell_type": "markdown",
   "metadata": {},
   "source": [
    "Total number of genomes: 45555\n",
    "Total number of genes: 147769736"
   ]
  },
  {
   "cell_type": "code",
   "execution_count": 3,
   "metadata": {},
   "outputs": [
    {
     "name": "stdout",
     "output_type": "stream",
     "text": [
      "45555\n",
      "147769736\n"
     ]
    }
   ],
   "source": [
    "total_genomes = len(metadata)\n",
    "print(total_genomes)\n",
    "total_genes = 0\n",
    "for genome in metadata:\n",
    "    total_genes += metadata[genome][\"protein_count\"]\n",
    "print(total_genes)\n"
   ]
  },
  {
   "cell_type": "markdown",
   "metadata": {},
   "source": [
    "Total genes specific to species: 4150013\n",
    "Total genes specific to genus: 2638854"
   ]
  },
  {
   "cell_type": "code",
   "execution_count": 6,
   "metadata": {},
   "outputs": [
    {
     "name": "stdout",
     "output_type": "stream",
     "text": [
      "4150013\n",
      "2638854\n"
     ]
    }
   ],
   "source": [
    "total_genes_specific_to_species = 0\n",
    "total_genes_specific_to_genus = 0\n",
    "for genome in specific_genes_data:\n",
    "    for gene in specific_genes_data[genome]:\n",
    "        if gene[1] == 1:\n",
    "            total_genes_specific_to_species += 1\n",
    "        elif gene[1] == 0:\n",
    "            total_genes_specific_to_genus += 1\n",
    "        else:\n",
    "            print(\"error\")\n",
    "print(total_genes_specific_to_species)\n",
    "print(total_genes_specific_to_genus)"
   ]
  },
  {
   "cell_type": "markdown",
   "metadata": {},
   "source": [
    "Average number of genes: 3243.7654703106136\n",
    "Average number of species-specific genes: 91.09895730435737\n",
    "Average number of genus-specific genes: 57.92676983865657"
   ]
  },
  {
   "cell_type": "code",
   "execution_count": 12,
   "metadata": {},
   "outputs": [
    {
     "name": "stdout",
     "output_type": "stream",
     "text": [
      "3243.7654703106136\n",
      "91.09895730435737\n",
      "57.92676983865657\n"
     ]
    }
   ],
   "source": [
    "print(total_genes/total_genomes)\n",
    "print(total_genes_specific_to_species/total_genomes)\n",
    "print(total_genes_specific_to_genus/total_genomes)\n"
   ]
  }
 ],
 "metadata": {
  "interpreter": {
   "hash": "a83d184d484b42f44bd208a3a567fe09865825365b61961f9dc589316f15ac1f"
  },
  "kernelspec": {
   "display_name": "Python 3.8.10 64-bit ('venv': venv)",
   "language": "python",
   "name": "python3"
  },
  "language_info": {
   "codemirror_mode": {
    "name": "ipython",
    "version": 3
   },
   "file_extension": ".py",
   "mimetype": "text/x-python",
   "name": "python",
   "nbconvert_exporter": "python",
   "pygments_lexer": "ipython3",
   "version": "3.8.10"
  },
  "orig_nbformat": 4
 },
 "nbformat": 4,
 "nbformat_minor": 2
}
