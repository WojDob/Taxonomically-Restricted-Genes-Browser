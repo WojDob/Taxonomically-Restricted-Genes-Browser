{
 "cells": [
  {
   "cell_type": "markdown",
   "metadata": {},
   "source": [
    "CREATED: 2021-12-22 \\\n",
    "What % of all proteins are specific (separately species and genus) \\\n",
    "How many specific genes are there \n",
    "  * on average\n",
    "  * min\n",
    "  * max\n",
    "  * standard deviation\n",
    "  * histogram\n",
    "  * quartiles \\\n",
    "\n",
    "For each species:\n",
    "  * how many genes are specific - both count and percentage\n",
    "  * top 10\n",
    "  * bottom 10"
   ]
  },
  {
   "cell_type": "code",
   "execution_count": 2,
   "metadata": {},
   "outputs": [],
   "source": [
    "import json\n",
    "from pprint import pprint\n",
    "\n",
    "try:\n",
    "    metadata_file = open(\"../data/metadata.json\", \"r\")\n",
    "except FileNotFoundError:\n",
    "    print(\"\\033[91m\\n\" + \"No metadata file found, aborting\" + \"\\n\\033[0m\")\n",
    "\n",
    "try:\n",
    "    trg_file = open(\"../large_data/trg.json\", \"r\")\n",
    "except FileNotFoundError:\n",
    "    print(\"\\033[91m\\n\" + \"No trg file found, aborting\" + \"\\n\\033[0m\")\n",
    "metadata = json.load(metadata_file)\n",
    "specific_genes_data = json.load(trg_file)\n",
    "\n",
    "metadata_file.close()\n",
    "trg_file.close()\n"
   ]
  },
  {
   "cell_type": "markdown",
   "metadata": {},
   "source": [
    "Total number of genomes: 45555\n",
    "Total number of genes: 147769736"
   ]
  },
  {
   "cell_type": "code",
   "execution_count": 3,
   "metadata": {},
   "outputs": [
    {
     "name": "stdout",
     "output_type": "stream",
     "text": [
      "45555\n",
      "147769736\n"
     ]
    }
   ],
   "source": [
    "total_genomes = len(metadata)\n",
    "print(total_genomes)\n",
    "total_genes = 0\n",
    "for genome in metadata:\n",
    "    total_genes += metadata[genome][\"protein_count\"]\n",
    "print(total_genes)\n"
   ]
  },
  {
   "cell_type": "markdown",
   "metadata": {},
   "source": [
    "Total genes specific to species: 4150013\n",
    "Total genes specific to genus: 2638854"
   ]
  },
  {
   "cell_type": "code",
   "execution_count": 4,
   "metadata": {},
   "outputs": [
    {
     "name": "stdout",
     "output_type": "stream",
     "text": [
      "4150013\n",
      "2638854\n"
     ]
    }
   ],
   "source": [
    "total_genes_specific_to_species = 0\n",
    "total_genes_specific_to_genus = 0\n",
    "for genome in specific_genes_data:\n",
    "    for gene in specific_genes_data[genome]:\n",
    "        if gene[1] == 1:\n",
    "            total_genes_specific_to_species += 1\n",
    "        elif gene[1] == 0:\n",
    "            total_genes_specific_to_genus += 1\n",
    "        else:\n",
    "            print(\"error\")\n",
    "print(total_genes_specific_to_species)\n",
    "print(total_genes_specific_to_genus)\n"
   ]
  },
  {
   "cell_type": "markdown",
   "metadata": {},
   "source": [
    "Average number of genes: 3243.7654703106136 \\\n",
    "Average number of species-specific genes: 91.09895730435737 \\\n",
    "Average number of genus-specific genes: 57.92676983865657 \\\n",
    "\\\n",
    "Percentage of genes that are species-specific: 2.8084323030799756 \\\n",
    "Percentage of genes that are species-specific: 1.7857878557758267 "
   ]
  },
  {
   "cell_type": "code",
   "execution_count": 5,
   "metadata": {},
   "outputs": [
    {
     "name": "stdout",
     "output_type": "stream",
     "text": [
      "3243.7654703106136\n",
      "91.09895730435737\n",
      "57.92676983865657\n",
      "2.8084323030799756\n",
      "1.7857878557758267\n"
     ]
    }
   ],
   "source": [
    "print(total_genes / total_genomes)\n",
    "print(total_genes_specific_to_species / total_genomes)\n",
    "print(total_genes_specific_to_genus / total_genomes)\n",
    "\n",
    "print((total_genes_specific_to_species / total_genes) * 100)\n",
    "print((total_genes_specific_to_genus / total_genes) * 100)\n"
   ]
  },
  {
   "cell_type": "code",
   "execution_count": 8,
   "metadata": {},
   "outputs": [
    {
     "name": "stdout",
     "output_type": "stream",
     "text": [
      "{'genus': 56, 'species': 140, 'protein_count': 2963, 'genus_percentage': 1.889976375295309, 'species_percentage': 4.724940938238272}\n"
     ]
    }
   ],
   "source": [
    "count_specific_for_each_genome = dict()\n",
    "count_values_genus = list()\n",
    "count_values_species = list()\n",
    "for genome in specific_genes_data:\n",
    "    genomes_protein_count = metadata[genome][\"protein_count\"]\n",
    "    count_specific_for_each_genome[genome] = {\n",
    "        \"genus\": 0,\n",
    "        \"species\": 0,\n",
    "        \"protein_count\": genomes_protein_count,\n",
    "    }\n",
    "    for gene in specific_genes_data[genome]:\n",
    "        if gene[1] == 1:\n",
    "            count_specific_for_each_genome[genome][\"species\"] += 1\n",
    "        elif gene[1] == 0:\n",
    "            count_specific_for_each_genome[genome][\"genus\"] += 1\n",
    "\n",
    "    genomes_species_total = count_specific_for_each_genome[genome][\"species\"]\n",
    "    genomes_genus_total = count_specific_for_each_genome[genome][\"genus\"]\n",
    "    count_specific_for_each_genome[genome][\"genus_percentage\"] = (\n",
    "        genomes_genus_total / genomes_protein_count\n",
    "    ) * 100\n",
    "    count_specific_for_each_genome[genome][\"species_percentage\"] = (\n",
    "        genomes_species_total / genomes_protein_count\n",
    "    ) * 100\n",
    "    count_values_genus.append(genomes_genus_total)\n",
    "    count_values_species.append(genomes_species_total)\n",
    "\n",
    "print(count_specific_for_each_genome[\"GB_GCA_003218535.1\"])\n"
   ]
  },
  {
   "cell_type": "markdown",
   "metadata": {},
   "source": [
    "Min number of species specific genes: 0 \\\n",
    "Min number of genus specific genes: 0 \\\n",
    "Max number of species specific genes: 4951 \\\n",
    "Max number of genus specific genes: 2211 \\"
   ]
  },
  {
   "cell_type": "code",
   "execution_count": 16,
   "metadata": {},
   "outputs": [
    {
     "name": "stdout",
     "output_type": "stream",
     "text": [
      "0 0 4951 2211\n"
     ]
    }
   ],
   "source": [
    "print(\n",
    "    min(count_values_species),\n",
    "    min(count_values_genus),\n",
    "    max(count_values_species),\n",
    "    max(count_values_genus),\n",
    ")"
   ]
  },
  {
   "cell_type": "markdown",
   "metadata": {},
   "source": [
    "No genomes with no species or genus specific genus - they were not included in trg.json"
   ]
  },
  {
   "cell_type": "code",
   "execution_count": 9,
   "metadata": {},
   "outputs": [
    {
     "name": "stdout",
     "output_type": "stream",
     "text": [
      "45555\n",
      "45544\n"
     ]
    }
   ],
   "source": [
    "print(total_genomes)\n",
    "print(len(count_specific_for_each_genome))\n",
    "for genome in count_specific_for_each_genome:\n",
    "    if (\n",
    "        count_specific_for_each_genome[genome][\"genus\"] == 0\n",
    "        and count_specific_for_each_genome[genome][\"species\"] == 0\n",
    "    ):\n",
    "        raise ValueError\n"
   ]
  },
  {
   "cell_type": "markdown",
   "metadata": {},
   "source": [
    "Add zeroes to lists until their length equalts total genomes"
   ]
  },
  {
   "cell_type": "code",
   "execution_count": 45,
   "metadata": {},
   "outputs": [
    {
     "name": "stdout",
     "output_type": "stream",
     "text": [
      "45555\n",
      "45555\n",
      "45555\n"
     ]
    }
   ],
   "source": [
    "while len(count_values_species) < total_genomes:\n",
    "    count_values_species.append(0)\n",
    "while len(count_values_genus) < total_genomes:\n",
    "    count_values_genus.append(0)\n",
    "\n",
    "print(len(count_values_genus))\n",
    "print(len(count_values_species))\n",
    "print(total_genomes)\n"
   ]
  },
  {
   "cell_type": "code",
   "execution_count": 48,
   "metadata": {},
   "outputs": [
    {
     "data": {
      "image/png": "[encoded data removed]",
      "text/plain": [
       "<Figure size 432x288 with 1 Axes>"
      ]
     },
     "metadata": {
      "needs_background": "light"
     },
     "output_type": "display_data"
    },
    {
     "data": {
      "image/png": "[encoded data removed]",
      "text/plain": [
       "<Figure size 432x288 with 1 Axes>"
      ]
     },
     "metadata": {
      "needs_background": "light"
     },
     "output_type": "display_data"
    },
    {
     "data": {
      "image/png": "[encoded data removed]",
      "text/plain": [
       "<Figure size 432x288 with 1 Axes>"
      ]
     },
     "metadata": {
      "needs_background": "light"
     },
     "output_type": "display_data"
    },
    {
     "data": {
      "image/png": "[encoded data removed]",
      "text/plain": [
       "<Figure size 432x288 with 1 Axes>"
      ]
     },
     "metadata": {
      "needs_background": "light"
     },
     "output_type": "display_data"
    }
   ],
   "source": [
    "from matplotlib import pyplot as plt\n",
    "\n",
    "plt.hist(count_values_species, bins=120)\n",
    "plt.show()\n",
    "plt.hist(count_values_genus, bins=120)\n",
    "plt.show()\n",
    "\n",
    "plt.hist([x for x in count_values_species if x < 800], bins=120)\n",
    "plt.show()\n",
    "plt.hist([x for x in count_values_genus if x < 800], bins=120)\n",
    "plt.show()\n"
   ]
  },
  {
   "cell_type": "markdown",
   "metadata": {},
   "source": [
    "Number of genomes with no specific genes:\n",
    "* no species specific: 250\n",
    "* no genus specific: 6978\n",
    "* no both at the same time: 11"
   ]
  },
  {
   "cell_type": "code",
   "execution_count": 51,
   "metadata": {},
   "outputs": [
    {
     "name": "stdout",
     "output_type": "stream",
     "text": [
      "250\n",
      "6978\n",
      "11\n"
     ]
    }
   ],
   "source": [
    "print(count_values_species.count(0))\n",
    "print(count_values_genus.count(0))\n",
    "\n",
    "print(total_genomes - len(count_specific_for_each_genome))\n"
   ]
  },
  {
   "cell_type": "markdown",
   "metadata": {},
   "source": [
    "Standard deviation:\n",
    "* species: 105.21635912768656\n",
    "* genus: 81.91432620050345"
   ]
  },
  {
   "cell_type": "code",
   "execution_count": 52,
   "metadata": {},
   "outputs": [
    {
     "name": "stdout",
     "output_type": "stream",
     "text": [
      "105.21635912768656\n",
      "81.91432620050345\n"
     ]
    }
   ],
   "source": [
    "import statistics\n",
    "\n",
    "print(statistics.pstdev(count_values_species))\n",
    "print(statistics.pstdev(count_values_genus))\n"
   ]
  },
  {
   "cell_type": "markdown",
   "metadata": {},
   "source": [
    "Median:\n",
    "* species: 63\n",
    "* genus: 33"
   ]
  },
  {
   "cell_type": "code",
   "execution_count": 54,
   "metadata": {},
   "outputs": [
    {
     "name": "stdout",
     "output_type": "stream",
     "text": [
      "63\n",
      "33\n"
     ]
    }
   ],
   "source": [
    "print(statistics.median(count_values_species))\n",
    "print(statistics.median(count_values_genus))\n"
   ]
  },
  {
   "cell_type": "markdown",
   "metadata": {},
   "source": [
    "Quantiles\n",
    "\n",
    "* Q1 species :  34.0\n",
    "* Q2 species :  63.0\n",
    "* Q3 species :  113.0\n",
    "* Q1 genus :  10.0\n",
    "* Q2 genus :  33.0\n",
    "* Q3 genus :  72.0"
   ]
  },
  {
   "cell_type": "code",
   "execution_count": 53,
   "metadata": {},
   "outputs": [
    {
     "name": "stdout",
     "output_type": "stream",
     "text": [
      "Q1 species :  34.0\n",
      "Q2 species :  63.0\n",
      "Q3 species :  113.0\n",
      "Q1 genus :  10.0\n",
      "Q2 genus :  33.0\n",
      "Q3 genus :  72.0\n"
     ]
    }
   ],
   "source": [
    "import numpy as np\n",
    "\n",
    "print(\"Q1 species : \", np.quantile(count_values_species, 0.25))\n",
    "print(\"Q2 species : \", np.quantile(count_values_species, 0.50))\n",
    "print(\"Q3 species : \", np.quantile(count_values_species, 0.75))\n",
    "\n",
    "print(\"Q1 genus : \", np.quantile(count_values_genus, 0.25))\n",
    "print(\"Q2 genus : \", np.quantile(count_values_genus, 0.50))\n",
    "print(\"Q3 genus : \", np.quantile(count_values_genus, 0.75))\n"
   ]
  },
  {
   "cell_type": "markdown",
   "metadata": {},
   "source": [
    "Top 10 - percentage"
   ]
  },
  {
   "cell_type": "code",
   "execution_count": 35,
   "metadata": {},
   "outputs": [
    {
     "name": "stdout",
     "output_type": "stream",
     "text": [
      "Top 10 genus\n",
      "[['GB_GCA_003452735.1', 72.7214786488209],\n",
      " ['GB_GCA_003452735.1', 69.03553299492386],\n",
      " ['GB_GCA_003452735.1', 47.964669738863286],\n",
      " ['GB_GCA_003452735.1', 47.156726768377254],\n",
      " ['GB_GCA_003452735.1', 38.770281810418446],\n",
      " ['GB_GCA_003452735.1', 32.80055594162613],\n",
      " ['GB_GCA_003452735.1', 30.0],\n",
      " ['GB_GCA_003452735.1', 27.30125523012552],\n",
      " ['GB_GCA_003452735.1', 26.835043409629044],\n",
      " ['GB_GCA_003452735.1', 26.626323751891075]]\n",
      "Top 10 species\n",
      "[['GB_GCA_003452735.1', 63.8235294117647],\n",
      " ['GB_GCA_003452735.1', 62.52115059221658],\n",
      " ['GB_GCA_003452735.1', 60.42090970807875],\n",
      " ['GB_GCA_003452735.1', 59.03183498271134],\n",
      " ['GB_GCA_003452735.1', 58.15109343936382],\n",
      " ['GB_GCA_003452735.1', 52.118644067796616],\n",
      " ['GB_GCA_003452735.1', 49.898305084745765],\n",
      " ['GB_GCA_003452735.1', 45.49340933380834],\n",
      " ['GB_GCA_003452735.1', 43.87990762124711],\n",
      " ['GB_GCA_003452735.1', 43.6684896928902]]\n"
     ]
    }
   ],
   "source": [
    "genus_percentages = list()\n",
    "species_percentages = list()\n",
    "for name in count_specific_for_each_genome:\n",
    "    genus_percentages.append([x,count_specific_for_each_genome[name]['genus_percentage']])\n",
    "    species_percentages.append([x,count_specific_for_each_genome[name]['species_percentage']])\n",
    "genus_percentages.sort(key = lambda x: -x[1])\n",
    "species_percentages.sort(key = lambda x: -x[1])\n",
    "print(\"Top 10 genus\")\n",
    "pprint(genus_percentages[:10])\n",
    "print(\"Top 10 species\")\n",
    "pprint(species_percentages[:10])"
   ]
  },
  {
   "cell_type": "markdown",
   "metadata": {},
   "source": [
    "Top 10 - count"
   ]
  },
  {
   "cell_type": "code",
   "execution_count": 34,
   "metadata": {},
   "outputs": [
    {
     "name": "stdout",
     "output_type": "stream",
     "text": [
      "Top 10 genus\n",
      "[['GB_GCA_000715635.1', 2211],\n",
      " ['GB_GCA_007858575.1', 1683],\n",
      " ['GB_GCA_000715615.1', 1642],\n",
      " ['GB_GCA_000715605.1', 1523],\n",
      " ['RS_GCF_003339775.1', 1249],\n",
      " ['GB_GCA_003248315.1', 1155],\n",
      " ['RS_GCF_000200735.1', 1141],\n",
      " ['RS_GCF_001886855.1', 1020],\n",
      " ['RS_GCF_004010275.1', 939],\n",
      " ['RS_GCF_001647025.1', 846]]\n",
      "Top 10 species\n",
      "[['GB_GCA_002685535.1', 4951],\n",
      " ['GB_GCA_000715855.1', 3532],\n",
      " ['RS_GCF_001499735.1', 2878],\n",
      " ['GB_GCA_000715635.1', 2740],\n",
      " ['GB_GCA_000715825.1', 2535],\n",
      " ['GB_GCA_002591725.1', 1953],\n",
      " ['GB_GCA_001312805.1', 1833],\n",
      " ['RS_GCF_000178855.1', 1635],\n",
      " ['GB_GCA_003154095.1', 1607],\n",
      " ['GB_GCA_000715615.1', 1560]]\n"
     ]
    }
   ],
   "source": [
    "genus_counts = list()\n",
    "species_counts = list()\n",
    "for name in count_specific_for_each_genome:\n",
    "    genus_counts.append([name,count_specific_for_each_genome[name]['genus']])\n",
    "    species_counts.append([name,count_specific_for_each_genome[name]['species']])\n",
    "genus_counts.sort(key = lambda x: -x[1])\n",
    "species_counts.sort(key = lambda x: -x[1])\n",
    "print(\"Top 10 genus\")\n",
    "pprint(genus_counts[:10])\n",
    "print(\"Top 10 species\")\n",
    "pprint(species_counts[:10])\n"
   ]
  }
 ],
 "metadata": {
  "interpreter": {
   "hash": "a83d184d484b42f44bd208a3a567fe09865825365b61961f9dc589316f15ac1f"
  },
  "kernelspec": {
   "display_name": "Python 3.8.10 64-bit ('venv': venv)",
   "language": "python",
   "name": "python3"
  },
  "language_info": {
   "codemirror_mode": {
    "name": "ipython",
    "version": 3
   },
   "file_extension": ".py",
   "mimetype": "text/x-python",
   "name": "python",
   "nbconvert_exporter": "python",
   "pygments_lexer": "ipython3",
   "version": "3.8.10"
  },
  "orig_nbformat": 4
 },
 "nbformat": 4,
 "nbformat_minor": 2
}
