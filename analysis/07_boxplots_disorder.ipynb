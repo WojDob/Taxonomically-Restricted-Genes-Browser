{
 "cells": [
  {
   "cell_type": "code",
   "execution_count": 5,
   "metadata": {},
   "outputs": [],
   "source": [
    "import matplotlib.pyplot as plt\n",
    "import json\n",
    "from Bio import SeqIO\n",
    "import math\n",
    "import subprocess\n",
    "import random\n"
   ]
  },
  {
   "cell_type": "code",
   "execution_count": 3,
   "metadata": {},
   "outputs": [],
   "source": [
    "clusters_lengths = [\n",
    "    len(r.seq)\n",
    "    for r in SeqIO.parse(\"../large_data/longest_seqs_from_clusters.fasta\", \"fasta\")\n",
    "]\n",
    "homologues_lengths = [\n",
    "    len(r.seq) for r in SeqIO.parse(\"../large_data/homologues.fasta\", \"fasta\")\n",
    "]\n",
    "orfs_lengths = [len(r.seq) for r in SeqIO.parse(\"../large_data/orfs.fasta\", \"fasta\")]\n"
   ]
  },
  {
   "cell_type": "code",
   "execution_count": 51,
   "metadata": {},
   "outputs": [],
   "source": [
    "def get_disorder_results(file_path):\n",
    "    sequence_lengths = [len(r.seq) for r in SeqIO.parse(file_path, \"fasta\")]\n",
    "    result = subprocess.run(\n",
    "        [\n",
    "            \"python3\",\n",
    "            \"../large_data/iupred2a/iupred2a.py\",\n",
    "            file_path,\n",
    "            \"short\",\n",
    "        ],\n",
    "        capture_output=True,\n",
    "        text=True,\n",
    "    )\n",
    "\n",
    "    results = result.stdout.split(\"\\n\")\n",
    "    results_floats = [float(x) for x in results if x != \"\"]\n",
    "    results_per_sequence = list()\n",
    "    cursor = 0\n",
    "    for length in sequence_lengths:\n",
    "        results_per_sequence.append(results_floats[cursor : cursor + length])\n",
    "        cursor += length\n",
    "    disorder_percentage_per_seq = list()\n",
    "    for seq in results_per_sequence:\n",
    "        disorder_percentage_per_seq.append(sum(i > 0.5 for i in seq) / len(seq))\n",
    "    return disorder_percentage_per_seq\n"
   ]
  },
  {
   "cell_type": "code",
   "execution_count": 55,
   "metadata": {},
   "outputs": [],
   "source": [
    "number_of_random_species = 5000"
   ]
  },
  {
   "cell_type": "code",
   "execution_count": 57,
   "metadata": {},
   "outputs": [],
   "source": [
    "with open(\"../data/species_list.json\") as json_file:\n",
    "    available_species_list = json.load(json_file)\n",
    "\n",
    "orf_results = list()\n",
    "trg_results = list()\n",
    "hom_results = list()\n",
    "for i in range(number_of_random_species):\n",
    "    species = random.sample(available_species_list, 1)[0]\n",
    "    available_species_list.remove(species)\n",
    "    file_path = f\"../large_data/protein_faa_reps/bacteria/{species}\"\n",
    "    orf_results += get_disorder_results(file_path + \"_orfs.fasta\")\n",
    "    trg_results += get_disorder_results(file_path + \"_clusters.fasta\")\n",
    "    hom_results += get_disorder_results(file_path + \"_homologues.fasta\")\n",
    "\n"
   ]
  },
  {
   "cell_type": "code",
   "execution_count": 62,
   "metadata": {},
   "outputs": [
    {
     "data": {
      "image/png": "[encoded data removed]",
      "text/plain": [
       "<Figure size 1080x720 with 1 Axes>"
      ]
     },
     "metadata": {
      "needs_background": "light"
     },
     "output_type": "display_data"
    }
   ],
   "source": [
    "assert len(orf_results) == len(trg_results) == len(hom_results)\n",
    "plt.gcf().set_size_inches(15, 10)\n",
    "plt.title(f\"Disorder score of sequences from different datasets,\\n Number of sequences from each dataset: {len(orf_results)}, total number of species: {number_of_random_species}\")\n",
    "plt.ylabel(\"Disorder score\")\n",
    "plt.boxplot(x=[hom_results, trg_results, orf_results],showfliers=False)\n",
    "plt.xticks([1, 2, 3], [\"Homologues\", \"trg\", \"Random sequences\"])\n",
    "plt.show()\n"
   ]
  }
 ],
 "metadata": {
  "interpreter": {
   "hash": "a83d184d484b42f44bd208a3a567fe09865825365b61961f9dc589316f15ac1f"
  },
  "kernelspec": {
   "display_name": "Python 3.8.10 ('venv': venv)",
   "language": "python",
   "name": "python3"
  },
  "language_info": {
   "codemirror_mode": {
    "name": "ipython",
    "version": 3
   },
   "file_extension": ".py",
   "mimetype": "text/x-python",
   "name": "python",
   "nbconvert_exporter": "python",
   "pygments_lexer": "ipython3",
   "version": "3.8.10"
  },
  "orig_nbformat": 4
 },
 "nbformat": 4,
 "nbformat_minor": 2
}
