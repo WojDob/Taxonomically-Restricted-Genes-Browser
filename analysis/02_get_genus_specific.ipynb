{
 "cells": [
  {
   "cell_type": "code",
   "execution_count": 8,
   "metadata": {},
   "outputs": [],
   "source": [
    "import json\n",
    "from Bio import SeqIO\n",
    "from pprint import pprint\n",
    "import os\n"
   ]
  },
  {
   "cell_type": "code",
   "execution_count": 9,
   "metadata": {},
   "outputs": [],
   "source": [
    "try:\n",
    "    metadata_file = open(\"../data/metadata.json\", \"r\")\n",
    "except FileNotFoundError:\n",
    "    print(\"\\033[91m\\n\" + \"No metadata file found, aborting\" + \"\\n\\033[0m\")\n",
    "\n",
    "try:\n",
    "    trg_file = open(\"../large_data/trg.json\", \"r\")\n",
    "except FileNotFoundError:\n",
    "    print(\"\\033[91m\\n\" + \"No trg file found, aborting\" + \"\\n\\033[0m\")\n",
    "metadata = json.load(metadata_file)\n",
    "specific_genes_data = json.load(trg_file)\n",
    "\n",
    "metadata_file.close()\n",
    "trg_file.close()\n"
   ]
  },
  {
   "cell_type": "code",
   "execution_count": 10,
   "metadata": {},
   "outputs": [],
   "source": [
    "genuses = dict()\n",
    "for genome in metadata:\n",
    "    gn = metadata[genome]\n",
    "    genus = gn[\"lineage\"][5]\n",
    "    species = [genome, set()]\n",
    "    if genus in genuses:\n",
    "        genuses[genus].append(species)\n",
    "    else:\n",
    "        genuses[genus] = [species]\n"
   ]
  },
  {
   "cell_type": "code",
   "execution_count": 11,
   "metadata": {},
   "outputs": [],
   "source": [
    "# base_path = \"/home/wojdob/Desktop/other/masters/large_data/genuses/\"\n",
    "# for genus in genuses:\n",
    "#     os.makedirs(os.path.join(base_path, genus))\n"
   ]
  },
  {
   "cell_type": "code",
   "execution_count": 12,
   "metadata": {},
   "outputs": [],
   "source": [
    "for genus in genuses:\n",
    "    for species in genuses[genus]:\n",
    "        if species[0] in specific_genes_data:\n",
    "            for protein in specific_genes_data[species[0]]:\n",
    "                if protein[1] == 0:\n",
    "                    species[1].add(protein[0])\n"
   ]
  },
  {
   "cell_type": "code",
   "execution_count": 13,
   "metadata": {},
   "outputs": [],
   "source": [
    "for genus in genuses:\n",
    "    output_file = f\"../large_data/genuses/{genus}/{genus}_specific_genes.fasta\"\n",
    "    with open(output_file, \"a\") as handle:\n",
    "        for species_tuple in genuses[genus]:\n",
    "            wanted = species_tuple[1]\n",
    "            input_file = f\"../large_data/protein_faa_reps/bacteria/{species_tuple[0]}_protein.faa\"\n",
    "            records = (r for r in SeqIO.parse(input_file, \"fasta\") if r.id in wanted)\n",
    "\n",
    "\n",
    "            for record in list(records):\n",
    "                record.description = f\"{species_tuple[0]}|{record.id}\"\n",
    "                record.id = record.description\n",
    "\n",
    "            count = SeqIO.write(records, handle, \"fasta\")\n",
    "            if count < len(wanted):\n",
    "                print(\n",
    "                    \"Warning %i IDs not found in %s\" % (len(wanted) - count, input_file)\n",
    "                )\n"
   ]
  },
  {
   "cell_type": "code",
   "execution_count": 15,
   "metadata": {},
   "outputs": [],
   "source": [
    "for genus in genuses:\n",
    "    output_file = f\"../large_data/all_genus_specific_proteins.fasta\"\n",
    "    with open(output_file, \"a\") as handle:\n",
    "        for species_tuple in genuses[genus]:\n",
    "            wanted = species_tuple[1]\n",
    "            input_file = f\"../large_data/protein_faa_reps/bacteria/{species_tuple[0]}_protein.faa\"\n",
    "            records = (r for r in SeqIO.parse(input_file, \"fasta\") if r.id in wanted)\n",
    "\n",
    "\n",
    "            count = SeqIO.write(records, handle, \"fasta\")\n",
    "            if count < len(wanted):\n",
    "                print(\n",
    "                    \"Warning %i IDs not found in %s\" % (len(wanted) - count, input_file)\n",
    "                )\n"
   ]
  }
 ],
 "metadata": {
  "interpreter": {
   "hash": "a83d184d484b42f44bd208a3a567fe09865825365b61961f9dc589316f15ac1f"
  },
  "kernelspec": {
   "display_name": "Python 3.8.10 ('venv': venv)",
   "language": "python",
   "name": "python3"
  },
  "language_info": {
   "codemirror_mode": {
    "name": "ipython",
    "version": 3
   },
   "file_extension": ".py",
   "mimetype": "text/x-python",
   "name": "python",
   "nbconvert_exporter": "python",
   "pygments_lexer": "ipython3",
   "version": "3.8.10"
  },
  "orig_nbformat": 4
 },
 "nbformat": 4,
 "nbformat_minor": 2
}
