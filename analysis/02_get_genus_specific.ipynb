{
 "cells": [
  {
   "cell_type": "code",
   "execution_count": 2,
   "metadata": {},
   "outputs": [],
   "source": [
    "import json\n",
    "from Bio import SeqIO\n",
    "from pprint import pprint\n",
    "import os\n"
   ]
  },
  {
   "cell_type": "code",
   "execution_count": 3,
   "metadata": {},
   "outputs": [],
   "source": [
    "try:\n",
    "    metadata_file = open(\"../data/metadata.json\", \"r\")\n",
    "except FileNotFoundError:\n",
    "    print(\"\\033[91m\\n\" + \"No metadata file found, aborting\" + \"\\n\\033[0m\")\n",
    "\n",
    "try:\n",
    "    trg_file = open(\"../large_data/trg.json\", \"r\")\n",
    "except FileNotFoundError:\n",
    "    print(\"\\033[91m\\n\" + \"No trg file found, aborting\" + \"\\n\\033[0m\")\n",
    "metadata = json.load(metadata_file)\n",
    "specific_genes_data = json.load(trg_file)\n",
    "\n",
    "metadata_file.close()\n",
    "trg_file.close()\n"
   ]
  },
  {
   "cell_type": "code",
   "execution_count": 5,
   "metadata": {},
   "outputs": [
    {
     "name": "stdout",
     "output_type": "stream",
     "text": [
      "[['RS_GCF_000715205.1', set()], ['RS_GCF_900166645.1', set()], ['RS_GCF_002153395.1', set()], ['RS_GCF_001584325.1', set()], ['RS_GCF_000691145.1', set()], ['RS_GCF_013155385.1', set()], ['GB_GCA_001938995.1', set()], ['RS_GCF_001584335.1', set()], ['RS_GCF_002744245.1', set()], ['RS_GCF_001969855.1', set()], ['RS_GCF_001461825.1', set()], ['RS_GCF_001307105.1', set()], ['RS_GCF_001042475.2', set()], ['RS_GCF_001592005.1', set()], ['RS_GCF_900186955.1', set()], ['RS_GCF_001278705.1', set()], ['RS_GCF_002027305.1', set()], ['RS_GCF_000011645.1', set()], ['RS_GCF_000300535.1', set()], ['RS_GCF_004116955.1', set()], ['RS_GCF_004124315.1', set()], ['RS_GCF_000196735.1', set()], ['GB_GCA_000332645.1', set()], ['RS_GCF_000691165.1', set()], ['RS_GCF_000507145.1', set()], ['RS_GCF_000262045.1', set()], ['RS_GCF_003431975.1', set()], ['RS_GCF_000009045.1', set()], ['RS_GCF_000245335.1', set()], ['RS_GCF_001969815.1', set()], ['RS_GCF_001042485.2', set()], ['RS_GCF_001517105.1', set()], ['RS_GCF_010093085.1', set()]]\n"
     ]
    }
   ],
   "source": [
    "genuses = dict()\n",
    "for genome in metadata:\n",
    "    gn = metadata[genome]\n",
    "    genus = gn[\"lineage\"][5]\n",
    "    species = [genome, set()]\n",
    "    if genus in genuses:\n",
    "        genuses[genus].append(species)\n",
    "    else:\n",
    "        genuses[genus] = [species]\n"
   ]
  },
  {
   "cell_type": "code",
   "execution_count": 33,
   "metadata": {},
   "outputs": [],
   "source": [
    "base_path = \"/home/wojdob/Desktop/other/masters/large_data/genuses/\"\n",
    "for genus in genuses:\n",
    "    os.makedirs(os.path.join(base_path, genus))\n"
   ]
  },
  {
   "cell_type": "code",
   "execution_count": 34,
   "metadata": {},
   "outputs": [],
   "source": [
    "for genus in genuses:\n",
    "    for species in genuses[genus]:\n",
    "        if species[0] in specific_genes_data:\n",
    "            for protein in specific_genes_data[species[0]]:\n",
    "                if protein[1] == 0:\n",
    "                    species[1].add(protein[0])\n"
   ]
  },
  {
   "cell_type": "code",
   "execution_count": 35,
   "metadata": {},
   "outputs": [],
   "source": [
    "for genus in genuses:\n",
    "    output_file = f\"../large_data/genuses/{genus}/{genus}_specific_genes.fasta\"\n",
    "    with open(output_file, \"a\") as handle:\n",
    "        for species_tuple in genuses[genus]:\n",
    "            wanted = species_tuple[1]\n",
    "            input_file = f\"../large_data/protein_faa_reps/bacteria/{species_tuple[0]}_protein.faa\"\n",
    "            records = tuple(\n",
    "                (r for r in SeqIO.parse(input_file, \"fasta\") if r.id in wanted)\n",
    "            )\n",
    "\n",
    "            for record in list(records):\n",
    "                record.description = f\"{species_tuple[0]}|{record.id}\"\n",
    "                record.id = record.description\n",
    "\n",
    "            count = SeqIO.write(records, handle, \"fasta\")\n",
    "            if count < len(wanted):\n",
    "                print(\n",
    "                    \"Warning %i IDs not found in %s\" % (len(wanted) - count, input_file)\n",
    "                )\n"
   ]
  }
 ],
 "metadata": {
  "interpreter": {
   "hash": "a83d184d484b42f44bd208a3a567fe09865825365b61961f9dc589316f15ac1f"
  },
  "kernelspec": {
   "display_name": "Python 3.8.10 ('venv': venv)",
   "language": "python",
   "name": "python3"
  },
  "language_info": {
   "codemirror_mode": {
    "name": "ipython",
    "version": 3
   },
   "file_extension": ".py",
   "mimetype": "text/x-python",
   "name": "python",
   "nbconvert_exporter": "python",
   "pygments_lexer": "ipython3",
   "version": "3.8.10"
  },
  "orig_nbformat": 4
 },
 "nbformat": 4,
 "nbformat_minor": 2
}
