{
 "cells": [
  {
   "cell_type": "code",
   "execution_count": 4,
   "metadata": {
    "collapsed": false,
    "pycharm": {
     "name": "#%%\n"
    }
   },
   "outputs": [],
   "source": [
    "from pprint import pprint\n",
    "from Bio import SeqIO\n",
    "import utils\n",
    "import subprocess\n",
    "\n",
    "import random\n"
   ]
  },
  {
   "cell_type": "code",
   "execution_count": 5,
   "metadata": {
    "collapsed": false,
    "pycharm": {
     "name": "#%%\n"
    }
   },
   "outputs": [],
   "source": [
    "genuses = utils.get_genuses()\n"
   ]
  },
  {
   "cell_type": "markdown",
   "metadata": {},
   "source": [
    "# longest sequences per cluster"
   ]
  },
  {
   "cell_type": "code",
   "execution_count": 6,
   "metadata": {
    "collapsed": false,
    "pycharm": {
     "name": "#%%\n"
    }
   },
   "outputs": [],
   "source": [
    "def parse_line(line):\n",
    "    length = int(line.partition(\"aa\")[0].partition(\"\\t\")[2])\n",
    "    species_and_gene = line.partition(\">\")[2].partition(\"...\")[0]\n",
    "    species = species_and_gene.partition(\"|\")[0]\n",
    "    gene = species_and_gene.partition(\"|\")[2]\n",
    "    accuracy_string = line.partition(\"...\")[2]\n",
    "    if \"*\" in accuracy_string:\n",
    "        accuracy = 100\n",
    "    else:\n",
    "        accuracy = float(line.partition(\"at \")[2].partition(\"%\")[0])\n",
    "    return [length, species, gene, accuracy]\n"
   ]
  },
  {
   "cell_type": "code",
   "execution_count": 7,
   "metadata": {
    "collapsed": false,
    "pycharm": {
     "name": "#%%\n"
    }
   },
   "outputs": [],
   "source": [
    "def get_longest_seq_from_cluster(cluster):\n",
    "    sorted_list = sorted(cluster, key=lambda x: (-x[0], -x[3]))\n",
    "    return sorted_list[0]\n"
   ]
  },
  {
   "cell_type": "code",
   "execution_count": 8,
   "metadata": {
    "collapsed": true,
    "pycharm": {
     "name": "#%%\n"
    }
   },
   "outputs": [],
   "source": [
    "longest_seqs_in_clusters = list()\n",
    "for genus in genuses:\n",
    "    with open(f\"../large_data/genuses/{genus}/{genus}_clustered.fasta.clstr\") as f:\n",
    "        cluster = list()\n",
    "        line = f.readline()\n",
    "        while line:\n",
    "            if line.startswith(\">\"):\n",
    "                if cluster:\n",
    "                    longest_seq = get_longest_seq_from_cluster(cluster)\n",
    "                    longest_seqs_in_clusters.append(longest_seq)\n",
    "                    cluster = list()\n",
    "            else:\n",
    "                cluster.append(parse_line(line))\n",
    "            line = f.readline()\n"
   ]
  },
  {
   "cell_type": "code",
   "execution_count": 9,
   "metadata": {},
   "outputs": [
    {
     "name": "stdout",
     "output_type": "stream",
     "text": [
      "[36, 'GB_GCA_003477305.1', 'DMTN01000058.1_80', 100]\n",
      "2118544\n"
     ]
    }
   ],
   "source": [
    "pprint(longest_seqs_in_clusters[0])\n",
    "pprint(len(longest_seqs_in_clusters))\n"
   ]
  },
  {
   "cell_type": "code",
   "execution_count": 10,
   "metadata": {},
   "outputs": [],
   "source": [
    "wanted_seqs = set([x[2] for x in longest_seqs_in_clusters])\n"
   ]
  },
  {
   "cell_type": "code",
   "execution_count": 11,
   "metadata": {
    "collapsed": false,
    "pycharm": {
     "name": "#%%\n"
    }
   },
   "outputs": [],
   "source": [
    "# output_file = \"../large_data/longest_seqs_from_clusters.fasta\"\n",
    "# input_file = \"../large_data/all_genus_specific_proteins.fasta\"\n",
    "\n",
    "# with open(output_file, \"w\") as handle:\n",
    "#     records = (r for r in SeqIO.parse(input_file, \"fasta\") if r.id in wanted_seqs)\n",
    "\n",
    "#     SeqIO.write(records, handle, \"fasta\")\n"
   ]
  },
  {
   "cell_type": "markdown",
   "metadata": {},
   "source": [
    "# homologues"
   ]
  },
  {
   "cell_type": "code",
   "execution_count": 12,
   "metadata": {},
   "outputs": [],
   "source": [
    "# make a dict containing lists of genes per species\n",
    "# { species_id: set?[gene_id, gene_id], species_id...}\n",
    "genes_per_species = dict()\n",
    "for s in longest_seqs_in_clusters:\n",
    "\n",
    "    species = s[1]\n",
    "    gene = s[2]\n",
    "    if species not in genes_per_species:\n",
    "        genes_per_species[species] = {\n",
    "            gene,\n",
    "        }\n",
    "    else:\n",
    "        genes_per_species[species].add(gene)\n"
   ]
  },
  {
   "cell_type": "code",
   "execution_count": 13,
   "metadata": {},
   "outputs": [],
   "source": [
    "# homologues_per_species = dict()\n",
    "# print(len(genes_per_species))\n",
    "# cnt = 0\n",
    "# for species in genes_per_species:\n",
    "#     # species= \"RS_GCF_000238995.1\"\n",
    "#     if cnt % 2000 == 0:\n",
    "#         print(cnt)\n",
    "#     cnt += 1\n",
    "#     homologues_per_species[species] = set()\n",
    "#     gene_ids = genes_per_species[species]\n",
    "#     input_file = f\"../large_data/protein_faa_reps/bacteria/{species}_protein.faa\"\n",
    "#     homologue_ids = list(r.id for r in SeqIO.parse(input_file, \"fasta\"))\n",
    "\n",
    "#     if (len(homologue_ids) - len(gene_ids)) < len(gene_ids):\n",
    "#         print(f\"{species} {len(homologue_ids)} {len(gene_ids)} \")\n",
    "#         for i in range(len(gene_ids)):\n",
    "#             choice = random.choice(homologue_ids)\n",
    "#             while choice in homologues_per_species[species]:\n",
    "#                 choice = random.choice(homologue_ids)\n",
    "#             homologues_per_species[species].add(choice)\n",
    "#     else:\n",
    "#         for i in range(len(gene_ids)):\n",
    "#             choice = random.choice(homologue_ids)\n",
    "#             while choice in homologues_per_species[species] or choice in gene_ids:\n",
    "#                 choice = random.choice(homologue_ids)\n",
    "#             homologues_per_species[species].add(choice)\n"
   ]
  },
  {
   "cell_type": "code",
   "execution_count": 14,
   "metadata": {},
   "outputs": [],
   "source": [
    "# output_file = \"../large_data/homologues.fasta\"\n",
    "# with open(output_file, \"w\") as handle:\n",
    "\n",
    "#     for species in homologues_per_species:\n",
    "\n",
    "#         wanted = homologues_per_species[species]\n",
    "#         input_file = f\"../large_data/protein_faa_reps/bacteria/{species}_protein.faa\"\n",
    "#         records = (r for r in SeqIO.parse(input_file, \"fasta\") if r.id in wanted)\n",
    "#         count = SeqIO.write(records, handle, \"fasta\")\n",
    "#         if count < len(wanted):\n",
    "#             print(\"Warning %i IDs not found in %s\" % (len(wanted) - count, input_file))\n"
   ]
  },
  {
   "cell_type": "markdown",
   "metadata": {},
   "source": [
    "# random sequences"
   ]
  },
  {
   "cell_type": "code",
   "execution_count": 15,
   "metadata": {},
   "outputs": [],
   "source": [
    "# for species in genes_per_species:\n",
    "#     input_file = f\"../large_data/gtdb_genomes_reps_r202/{species[3:6]}/{species[7:10]}/{species[10:13]}/{species[13:16]}/{species[3:]}_genomic.fna.gz\"\n",
    "#     subprocess.run([\"gzip\", \"-d\", input_file])\n"
   ]
  },
  {
   "cell_type": "markdown",
   "metadata": {},
   "source": [
    "input_file = \"../large_data/homologues.fasta\"\n",
    "records = (r for r in SeqIO.parse(input_file, \"fasta\"))\n",
    "for i in records:\n",
    "    rec = i\n",
    "    break\n",
    "rec\n",
    "input_file = \"../large_data/longest_seqs_from_clusters.fasta\"\n",
    "records2 = (r for r in SeqIO.parse(input_file, \"fasta\"))\n",
    "\n"
   ]
  },
  {
   "cell_type": "code",
   "execution_count": 80,
   "metadata": {},
   "outputs": [
    {
     "data": {
      "text/plain": [
       "2118544"
      ]
     },
     "execution_count": 80,
     "metadata": {},
     "output_type": "execute_result"
    }
   ],
   "source": [
    "len(list((r for r in records2)))"
   ]
  },
  {
   "cell_type": "markdown",
   "metadata": {},
   "source": [
    "\n",
    "to find: 20\n",
    "\n",
    "grep \">\" -c large_data/gtdb_genomes_reps_r202/GCA/003/150/015/GCA_003150015.1_genomic.fna\n",
    "12\n",
    "\n",
    "grep \">\" -c large_data/protein_faa_reps/bacteria/GB_GCA_003150015.1_protein.faa \n",
    "1161\n"
   ]
  },
  {
   "cell_type": "code",
   "execution_count": 48,
   "metadata": {},
   "outputs": [
    {
     "name": "stdout",
     "output_type": "stream",
     "text": [
      "20\n"
     ]
    }
   ],
   "source": [
    "species = \"GB_GCA_003150015.1\"\n",
    "print(len(genes_per_species[species]))"
   ]
  },
  {
   "cell_type": "code",
   "execution_count": 47,
   "metadata": {},
   "outputs": [
    {
     "name": "stdout",
     "output_type": "stream",
     "text": [
      "0\n",
      "0\n",
      "71\n",
      "23\n",
      "../large_data/gtdb_genomes_reps_r202/GCA/003/477/305/GCA_003477305.1_genomic.fna\n",
      "1\n",
      "206\n",
      "28\n",
      "../large_data/gtdb_genomes_reps_r202/GCA/903/844/055/GCA_903844055.1_genomic.fna\n",
      "2\n",
      "12\n",
      "20\n",
      "../large_data/gtdb_genomes_reps_r202/GCA/003/150/015/GCA_003150015.1_genomic.fna\n"
     ]
    },
    {
     "ename": "KeyboardInterrupt",
     "evalue": "",
     "output_type": "error",
     "traceback": [
      "\u001b[0;31m---------------------------------------------------------------------------\u001b[0m",
      "\u001b[0;31mKeyboardInterrupt\u001b[0m                         Traceback (most recent call last)",
      "\u001b[0;32m/tmp/ipykernel_26505/1272891961.py\u001b[0m in \u001b[0;36m<module>\u001b[0;34m\u001b[0m\n\u001b[1;32m     17\u001b[0m         \u001b[0msample\u001b[0m \u001b[0;34m=\u001b[0m \u001b[0mrandom\u001b[0m\u001b[0;34m.\u001b[0m\u001b[0msample\u001b[0m\u001b[0;34m(\u001b[0m\u001b[0mrecords\u001b[0m\u001b[0;34m,\u001b[0m\u001b[0;36m1\u001b[0m\u001b[0;34m)\u001b[0m\u001b[0;34m\u001b[0m\u001b[0;34m\u001b[0m\u001b[0m\n\u001b[1;32m     18\u001b[0m         \u001b[0;32mwhile\u001b[0m \u001b[0msample\u001b[0m\u001b[0;34m[\u001b[0m\u001b[0;36m0\u001b[0m\u001b[0;34m]\u001b[0m\u001b[0;34m.\u001b[0m\u001b[0mid\u001b[0m \u001b[0;32min\u001b[0m \u001b[0mtaken\u001b[0m\u001b[0;34m:\u001b[0m\u001b[0;34m\u001b[0m\u001b[0;34m\u001b[0m\u001b[0m\n\u001b[0;32m---> 19\u001b[0;31m             \u001b[0msample\u001b[0m \u001b[0;34m=\u001b[0m \u001b[0mrandom\u001b[0m\u001b[0;34m.\u001b[0m\u001b[0msample\u001b[0m\u001b[0;34m(\u001b[0m\u001b[0mrecords\u001b[0m\u001b[0;34m,\u001b[0m\u001b[0;36m1\u001b[0m\u001b[0;34m)\u001b[0m\u001b[0;34m\u001b[0m\u001b[0;34m\u001b[0m\u001b[0m\n\u001b[0m\u001b[1;32m     20\u001b[0m         \u001b[0mtaken\u001b[0m\u001b[0;34m.\u001b[0m\u001b[0mappend\u001b[0m\u001b[0;34m(\u001b[0m\u001b[0;34m(\u001b[0m\u001b[0msample\u001b[0m\u001b[0;34m[\u001b[0m\u001b[0;36m0\u001b[0m\u001b[0;34m]\u001b[0m\u001b[0;34m.\u001b[0m\u001b[0mid\u001b[0m\u001b[0;34m)\u001b[0m\u001b[0;34m)\u001b[0m\u001b[0;34m\u001b[0m\u001b[0;34m\u001b[0m\u001b[0m\n\u001b[1;32m     21\u001b[0m         \u001b[0;32mwith\u001b[0m \u001b[0mopen\u001b[0m\u001b[0;34m(\u001b[0m\u001b[0moutput_file\u001b[0m\u001b[0;34m,\u001b[0m \u001b[0;34m\"w\"\u001b[0m\u001b[0;34m)\u001b[0m \u001b[0;32mas\u001b[0m \u001b[0mhandle\u001b[0m\u001b[0;34m:\u001b[0m\u001b[0;34m\u001b[0m\u001b[0;34m\u001b[0m\u001b[0m\n",
      "\u001b[0;32m/usr/lib/python3.8/random.py\u001b[0m in \u001b[0;36msample\u001b[0;34m(self, population, k)\u001b[0m\n\u001b[1;32m    369\u001b[0m             \u001b[0;31m# An n-length list is smaller than a k-length set\u001b[0m\u001b[0;34m\u001b[0m\u001b[0;34m\u001b[0m\u001b[0;34m\u001b[0m\u001b[0m\n\u001b[1;32m    370\u001b[0m             \u001b[0mpool\u001b[0m \u001b[0;34m=\u001b[0m \u001b[0mlist\u001b[0m\u001b[0;34m(\u001b[0m\u001b[0mpopulation\u001b[0m\u001b[0;34m)\u001b[0m\u001b[0;34m\u001b[0m\u001b[0;34m\u001b[0m\u001b[0m\n\u001b[0;32m--> 371\u001b[0;31m             \u001b[0;32mfor\u001b[0m \u001b[0mi\u001b[0m \u001b[0;32min\u001b[0m \u001b[0mrange\u001b[0m\u001b[0;34m(\u001b[0m\u001b[0mk\u001b[0m\u001b[0;34m)\u001b[0m\u001b[0;34m:\u001b[0m         \u001b[0;31m# invariant:  non-selected at [0,n-i)\u001b[0m\u001b[0;34m\u001b[0m\u001b[0;34m\u001b[0m\u001b[0m\n\u001b[0m\u001b[1;32m    372\u001b[0m                 \u001b[0mj\u001b[0m \u001b[0;34m=\u001b[0m \u001b[0mrandbelow\u001b[0m\u001b[0;34m(\u001b[0m\u001b[0mn\u001b[0m\u001b[0;34m-\u001b[0m\u001b[0mi\u001b[0m\u001b[0;34m)\u001b[0m\u001b[0;34m\u001b[0m\u001b[0;34m\u001b[0m\u001b[0m\n\u001b[1;32m    373\u001b[0m                 \u001b[0mresult\u001b[0m\u001b[0;34m[\u001b[0m\u001b[0mi\u001b[0m\u001b[0;34m]\u001b[0m \u001b[0;34m=\u001b[0m \u001b[0mpool\u001b[0m\u001b[0;34m[\u001b[0m\u001b[0mj\u001b[0m\u001b[0;34m]\u001b[0m\u001b[0;34m\u001b[0m\u001b[0;34m\u001b[0m\u001b[0m\n",
      "\u001b[0;31mKeyboardInterrupt\u001b[0m: "
     ]
    }
   ],
   "source": [
    "\n",
    "cnt = 0\n",
    "for species in genes_per_species:\n",
    "    print(cnt)\n",
    "    if cnt % 1000 == 0:\n",
    "        print(cnt)\n",
    "    cnt+=1\n",
    "    gene_ids = genes_per_species[species]\n",
    "    path = f\"../large_data/gtdb_genomes_reps_r202/{species[3:6]}/{species[7:10]}/{species[10:13]}/{species[13:16]}/\"\n",
    "    input_file = f\"../large_data/gtdb_genomes_reps_r202/{species[3:6]}/{species[7:10]}/{species[10:13]}/{species[13:16]}/{species[3:]}_genomic.fna\"\n",
    "    records = [r for r in SeqIO.parse(input_file, \"fasta\")]\n",
    "    taken = list()\n",
    "    print(len(records))\n",
    "    print(len(gene_ids))\n",
    "    print(input_file)\n",
    "    for i in range(len(gene_ids)):\n",
    "        output_file = path + str(i) + \".fasta\"\n",
    "        sample = random.sample(records,1)\n",
    "        while sample[0].id in taken:\n",
    "            sample = random.sample(records,1)\n",
    "        taken.append((sample[0].id))\n",
    "        with open(output_file, \"w\") as handle:\n",
    "            SeqIO.write(sample, handle, \"fasta\")\n",
    "\n"
   ]
  },
  {
   "cell_type": "code",
   "execution_count": 44,
   "metadata": {},
   "outputs": [
    {
     "data": {
      "text/plain": [
       "3"
      ]
     },
     "execution_count": 44,
     "metadata": {},
     "output_type": "execute_result"
    }
   ],
   "source": [
    "cnt"
   ]
  },
  {
   "cell_type": "code",
   "execution_count": null,
   "metadata": {},
   "outputs": [],
   "source": [
    "# strip numbers after underscore from gene ids\n",
    "# but now there will be duplicates probli\n",
    "\n",
    "output_file = \"../large_data/randoms.fasta\"\n",
    "with open(output_file, \"a\") as handle:\n",
    "    used_ids = set()\n",
    "    for species in genes_per_species:\n",
    "        gene_ids = genes_per_species[species]\n",
    "        # get packed input file by splitting the species string\n",
    "        # unpack input file\n",
    "        # parse input file\n",
    "        # for i in range len gene_ids\n",
    "        # choose random sequence\n",
    "        # while random sequence in used_ids\n",
    "        # choose random sequence\n",
    "        #  if (len(nt sequences) - len(gene_ids)) >= len(gene_ids):\n",
    "        # while random sequence id in gene_ids\n",
    "        # choose random sequence\n",
    "        # write sequence to text file\n",
    "        # put the sequence into getorf\n",
    "        # parse the output file with seqio\n",
    "        # choose random sequence\n",
    "        # append sequence to file\n"
   ]
  }
 ],
 "metadata": {
  "kernelspec": {
   "display_name": "Python 3",
   "language": "python",
   "name": "python3"
  },
  "language_info": {
   "codemirror_mode": {
    "name": "ipython",
    "version": 3
   },
   "file_extension": ".py",
   "mimetype": "text/x-python",
   "name": "python",
   "nbconvert_exporter": "python",
   "pygments_lexer": "ipython3",
   "version": "3.8.10"
  }
 },
 "nbformat": 4,
 "nbformat_minor": 0
}
