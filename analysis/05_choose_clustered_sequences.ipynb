{
 "cells": [
  {
   "cell_type": "code",
   "execution_count": 1,
   "metadata": {
    "collapsed": false,
    "pycharm": {
     "name": "#%%\n"
    }
   },
   "outputs": [],
   "source": [
    "from pprint import pprint\n",
    "from Bio import SeqIO\n",
    "import utils"
   ]
  },
  {
   "cell_type": "code",
   "execution_count": 2,
   "metadata": {
    "collapsed": false,
    "pycharm": {
     "name": "#%%\n"
    }
   },
   "outputs": [],
   "source": [
    "genuses = utils.get_genuses()"
   ]
  },
  {
   "cell_type": "code",
   "execution_count": 3,
   "metadata": {
    "collapsed": false,
    "pycharm": {
     "name": "#%%\n"
    }
   },
   "outputs": [],
   "source": [
    "def parse_line(line):\n",
    "    length = int(line.partition(\"aa\")[0].partition(\"\\t\")[2])\n",
    "    species_and_gene = line.partition(\">\")[2].partition(\"...\")[0]\n",
    "    species = species_and_gene.partition(\"|\")[0]\n",
    "    gene = species_and_gene.partition(\"|\")[2]\n",
    "    accuracy_string = line.partition(\"...\")[2]\n",
    "    if \"*\" in accuracy_string:\n",
    "        accuracy = 100\n",
    "    else:\n",
    "        accuracy = float(line.partition(\"at \")[2].partition(\"%\")[0])\n",
    "    return([length,species,gene, accuracy])"
   ]
  },
  {
   "cell_type": "code",
   "execution_count": 4,
   "metadata": {
    "collapsed": false,
    "pycharm": {
     "name": "#%%\n"
    }
   },
   "outputs": [],
   "source": [
    "def get_longest_seq_from_cluster(cluster):\n",
    "    sorted_list = sorted(cluster, key = lambda x: (-x[0], -x[3]))\n",
    "    return sorted_list[0]"
   ]
  },
  {
   "cell_type": "code",
   "execution_count": 5,
   "metadata": {
    "collapsed": true,
    "pycharm": {
     "name": "#%%\n"
    }
   },
   "outputs": [],
   "source": [
    "longest_seqs_in_clusters = list()\n",
    "for genus in genuses:\n",
    "    with open(f\"../large_data/genuses/{genus}/{genus}_clustered.fasta.clstr\") as f:\n",
    "        cluster = list()\n",
    "        line = f.readline()\n",
    "        while line:\n",
    "            if line.startswith(\">\"):\n",
    "                if cluster:\n",
    "                    longest_seq = get_longest_seq_from_cluster(cluster)\n",
    "                    longest_seqs_in_clusters.append(longest_seq)\n",
    "                    cluster = list()\n",
    "            else:\n",
    "                cluster.append(parse_line(line))\n",
    "            line = f.readline()"
   ]
  },
  {
   "cell_type": "code",
   "execution_count": 6,
   "metadata": {},
   "outputs": [
    {
     "name": "stdout",
     "output_type": "stream",
     "text": [
      "[143, 'GB_GCA_003220055.1', 'QHRF01000011.1_59', 100]\n",
      "2118544\n"
     ]
    }
   ],
   "source": [
    "pprint(longest_seqs_in_clusters[0])\n",
    "pprint(len(longest_seqs_in_clusters))"
   ]
  },
  {
   "cell_type": "code",
   "execution_count": 7,
   "metadata": {},
   "outputs": [],
   "source": [
    "wanted_seqs = set([x[2] for x in longest_seqs_in_clusters])"
   ]
  },
  {
   "cell_type": "code",
   "execution_count": 8,
   "metadata": {
    "collapsed": false,
    "pycharm": {
     "name": "#%%\n"
    }
   },
   "outputs": [],
   "source": [
    "\n",
    "output_file = \"../large_data/longest_seqs_from_clusters.fasta\"\n",
    "input_file = \"../large_data/all_genus_specific_proteins.fasta\"\n",
    "\n",
    "with open(output_file, \"w\") as handle:\n",
    "    records = (r for r in SeqIO.parse(input_file, \"fasta\") if r.id in wanted_seqs)\n",
    "\n",
    "    SeqIO.write(records, handle, \"fasta\")\n"
   ]
  },
  {
   "cell_type": "code",
   "execution_count": 9,
   "metadata": {},
   "outputs": [],
   "source": [
    "# make a dict containing lists of genes per species\n",
    "# { species_id: set?[gene_id, gene_id], species_id...}\n",
    "genes_per_species = dict()\n",
    "for s in longest_seqs_in_clusters:\n",
    "\n",
    "    species = s[1]\n",
    "    gene=s[2]\n",
    "    if species not in genes_per_species:\n",
    "        genes_per_species[species] = {gene,}\n",
    "    else:\n",
    "        genes_per_species[species].add(gene)"
   ]
  },
  {
   "cell_type": "code",
   "execution_count": null,
   "metadata": {},
   "outputs": [],
   "source": [
    "import random\n",
    "\n",
    "homologues_per_species = dict()\n",
    "print(len(genes_per_species))\n",
    "cnt=0\n",
    "for species in genes_per_species:\n",
    "    # species= \"RS_GCF_000238995.1\"\n",
    "    if cnt%2000 ==0:\n",
    "        print(cnt)\n",
    "    cnt+=1\n",
    "    homologues_per_species[species] = set()\n",
    "    gene_ids = genes_per_species[species]\n",
    "    input_file = f\"../large_data/protein_faa_reps/bacteria/{species}_protein.faa\"\n",
    "    homologue_ids = list(r.id for r in SeqIO.parse(input_file, \"fasta\"))\n",
    "    \n",
    "    if (len(homologue_ids) - len(gene_ids))  < len(gene_ids):\n",
    "        print(f\"{species} {len(homologue_ids)} {len(gene_ids)} \")\n",
    "        for i in range(len(gene_ids)):\n",
    "            choice = random.choice(homologue_ids)\n",
    "            while choice in homologues_per_species[species]:\n",
    "                choice = random.choice(homologue_ids)\n",
    "            homologues_per_species[species].add(choice)\n",
    "    else:\n",
    "        for i in range(len(gene_ids)):\n",
    "            choice = random.choice(homologue_ids)\n",
    "            while choice in homologues_per_species[species] or choice in gene_ids:\n",
    "                choice = random.choice(homologue_ids)\n",
    "            homologues_per_species[species].add(choice)\n",
    "\n",
    "\n"
   ]
  },
  {
   "cell_type": "code",
   "execution_count": 12,
   "metadata": {},
   "outputs": [],
   "source": [
    "output_file =  \"../large_data/homologues.fasta\"\n",
    "with open(output_file, \"w\") as handle:\n",
    "\n",
    "    for species in homologues_per_species:\n",
    "\n",
    "        wanted = homologues_per_species[species]\n",
    "        input_file = f\"../large_data/protein_faa_reps/bacteria/{species}_protein.faa\"\n",
    "        records = (r for r in SeqIO.parse(input_file, \"fasta\") if r.id in wanted)\n",
    "        count = SeqIO.write(records, handle, \"fasta\")\n",
    "        if count < len(wanted):\n",
    "            print(\n",
    "                \"Warning %i IDs not found in %s\" % (len(wanted) - count, input_file)\n",
    "            )\n"
   ]
  }
 ],
 "metadata": {
  "kernelspec": {
   "display_name": "Python 3",
   "language": "python",
   "name": "python3"
  },
  "language_info": {
   "codemirror_mode": {
    "name": "ipython",
    "version": 3
   },
   "file_extension": ".py",
   "mimetype": "text/x-python",
   "name": "python",
   "nbconvert_exporter": "python",
   "pygments_lexer": "ipython3",
   "version": "3.8.10"
  }
 },
 "nbformat": 4,
 "nbformat_minor": 0
}
