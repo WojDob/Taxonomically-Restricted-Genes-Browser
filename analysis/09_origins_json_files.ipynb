{
 "cells": [
  {
   "cell_type": "code",
   "execution_count": 1,
   "metadata": {},
   "outputs": [],
   "source": [
    "import json\n"
   ]
  },
  {
   "cell_type": "code",
   "execution_count": 6,
   "metadata": {},
   "outputs": [],
   "source": [
    "try:\n",
    "    metadata_file = open(\"../data/metadata.json\", \"r\")\n",
    "except FileNotFoundError:\n",
    "    print(\"\\033[91m\\n\" + \"No metadata file found, aborting\" + \"\\n\\033[0m\")\n",
    "\n",
    "try:\n",
    "    trg_file = open(\"../large_data/trg.json\", \"r\")\n",
    "except FileNotFoundError:\n",
    "    print(\"\\033[91m\\n\" + \"No trg file found, aborting\" + \"\\n\\033[0m\")\n",
    "metadata = json.load(metadata_file)\n",
    "trg = json.load(trg_file)\n",
    "\n",
    "metadata_file.close()\n",
    "trg_file.close()\n"
   ]
  },
  {
   "cell_type": "code",
   "execution_count": 4,
   "metadata": {},
   "outputs": [],
   "source": [
    "from utils import get_genuses\n",
    "\n",
    "genuses = get_genuses()\n"
   ]
  },
  {
   "cell_type": "code",
   "execution_count": 39,
   "metadata": {},
   "outputs": [],
   "source": [
    "species_protein_lists = dict()\n",
    "for key in trg:\n",
    "    species_protein_lists[key] = {\"genus_specific\": list(), \"species_specific\": list()}\n",
    "    for protein_field in trg[key]:\n",
    "        if protein_field[1] == 0:\n",
    "            species_protein_lists[key][\"genus_specific\"].append(protein_field[0])\n",
    "        else:\n",
    "            species_protein_lists[key][\"species_specific\"].append(protein_field[0])\n"
   ]
  },
  {
   "cell_type": "code",
   "execution_count": 40,
   "metadata": {},
   "outputs": [],
   "source": [
    "genus_species_protein = dict()\n",
    "\n",
    "for g in genuses:\n",
    "    genus_species_protein[g] = dict()\n",
    "\n",
    "\n",
    "all_relevant_species = set()\n",
    "for key in species_protein_lists:\n",
    "    all_relevant_species.add(key)\n"
   ]
  },
  {
   "cell_type": "code",
   "execution_count": 41,
   "metadata": {},
   "outputs": [],
   "source": [
    "for key in metadata:\n",
    "    genus = metadata[key][\"lineage\"][5]\n",
    "    if key in all_relevant_species:\n",
    "        genus_species_protein[genus][key] = species_protein_lists[key]\n"
   ]
  },
  {
   "cell_type": "code",
   "execution_count": 43,
   "metadata": {},
   "outputs": [
    {
     "name": "stdout",
     "output_type": "stream",
     "text": [
      "2638854\n",
      "4150013\n"
     ]
    }
   ],
   "source": [
    "count_g = 0\n",
    "count_s = 0\n",
    "for genus in genus_species_protein:\n",
    "    for species in genus_species_protein[genus]:\n",
    "        for x in genus_species_protein[genus][species][\"genus_specific\"]:\n",
    "            count_g += 1\n",
    "        for x in genus_species_protein[genus][species][\"species_specific\"]:\n",
    "            count_s += 1\n",
    "print(count_g)\n",
    "print(count_s)\n"
   ]
  },
  {
   "cell_type": "code",
   "execution_count": 44,
   "metadata": {},
   "outputs": [],
   "source": [
    "with open(\"../large_data/specific_genes_origins.json\", \"w\", encoding=\"utf-8\") as f:\n",
    "    json.dump(genus_species_protein, f, indent=4)\n"
   ]
  }
 ],
 "metadata": {
  "interpreter": {
   "hash": "a83d184d484b42f44bd208a3a567fe09865825365b61961f9dc589316f15ac1f"
  },
  "kernelspec": {
   "display_name": "Python 3.8.10 ('venv': venv)",
   "language": "python",
   "name": "python3"
  },
  "language_info": {
   "codemirror_mode": {
    "name": "ipython",
    "version": 3
   },
   "file_extension": ".py",
   "mimetype": "text/x-python",
   "name": "python",
   "nbconvert_exporter": "python",
   "pygments_lexer": "ipython3",
   "version": "3.8.10"
  },
  "orig_nbformat": 4
 },
 "nbformat": 4,
 "nbformat_minor": 2
}
