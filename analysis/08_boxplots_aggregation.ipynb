{
 "cells": [
  {
   "cell_type": "code",
   "execution_count": 1,
   "metadata": {},
   "outputs": [],
   "source": [
    "import matplotlib.pyplot as plt\n",
    "import json\n",
    "from Bio import SeqIO\n",
    "import subprocess\n",
    "import random\n",
    "import os\n"
   ]
  },
  {
   "cell_type": "code",
   "execution_count": 2,
   "metadata": {},
   "outputs": [
    {
     "data": {
      "text/plain": [
       "38478"
      ]
     },
     "execution_count": 2,
     "metadata": {},
     "output_type": "execute_result"
    }
   ],
   "source": [
    "with open(\"../data/species_list.json\") as json_file:\n",
    "    available_species_list = json.load(json_file)\n",
    "len(available_species_list)\n"
   ]
  },
  {
   "cell_type": "code",
   "execution_count": 18,
   "metadata": {},
   "outputs": [],
   "source": [
    "def get_aggreagtion_results(file_path):\n",
    "    temp_file = \"temp.txt\"\n",
    "    # file_path = \"../large_data/example.fasta\"\n",
    "    tango_file_path = \"../large_data/tango2_3_1.linux64/tango_x86_64_release\"\n",
    "    records = (r for r in SeqIO.parse(file_path, \"fasta\"))\n",
    "\n",
    "    aggregation_scores = list()\n",
    "    for r in records:\n",
    "        with open(temp_file, \"w\") as f:\n",
    "            f.write(f\"tempseq N N 7 298 0.1 {r.seq}\\n\")\n",
    "\n",
    "        result = subprocess.run(\n",
    "            [\n",
    "                tango_file_path,\n",
    "                f\"-inputfile={temp_file}\",\n",
    "            ],\n",
    "            capture_output=True,\n",
    "        )\n",
    "\n",
    "        with open(\"tempseq.txt\", \"r\") as f:\n",
    "            f.readline()\n",
    "            aggregation_scores.append([float(line.split(\"\\t\")[5]) for line in f])\n",
    "    results = [sum(x) / len(x) for x in aggregation_scores]\n",
    "    os.system(\"rm temp_aggregation*\")\n",
    "    return results\n"
   ]
  },
  {
   "cell_type": "code",
   "execution_count": 20,
   "metadata": {},
   "outputs": [],
   "source": [
    "number_of_random_species = 5000\n"
   ]
  },
  {
   "cell_type": "code",
   "execution_count": 21,
   "metadata": {},
   "outputs": [
    {
     "data": {
      "image/png": "[encoded data removed]",
      "text/plain": [
       "<Figure size 1080x720 with 1 Axes>"
      ]
     },
     "metadata": {
      "needs_background": "light"
     },
     "output_type": "display_data"
    }
   ],
   "source": [
    "with open(\"../data/species_list.json\") as json_file:\n",
    "    available_species_list = json.load(json_file)\n",
    "\n",
    "orf_results = list()\n",
    "trg_results = list()\n",
    "hom_results = list()\n",
    "for i in range(number_of_random_species):\n",
    "\n",
    "    species = random.sample(available_species_list, 1)[0]\n",
    "\n",
    "    available_species_list.remove(species)\n",
    "    file_path = f\"../large_data/protein_faa_reps/bacteria/{species}\"\n",
    "    orf_results += get_aggreagtion_results(file_path + \"_orfs.fasta\")\n",
    "    trg_results += get_aggreagtion_results(file_path + \"_clusters.fasta\")\n",
    "    hom_results += get_aggreagtion_results(file_path + \"_homologues.fasta\")\n",
    "\n",
    "assert len(orf_results) == len(trg_results) == len(hom_results)\n",
    "plt.gcf().set_size_inches(15, 10)\n",
    "plt.title(\n",
    "    f\"Aggregation score of sequences from different datasets,\\n Number of sequences from each dataset: {len(orf_results)}, total number of species: {number_of_random_species}\"\n",
    ")\n",
    "plt.ylabel(\"Aggregation score\")\n",
    "plt.boxplot(x=[hom_results, trg_results, orf_results], showfliers=False)\n",
    "plt.xticks([1, 2, 3], [\"Homologues\", \"trg\", \"Random sequences\"])\n",
    "plt.show()\n"
   ]
  }
 ],
 "metadata": {
  "interpreter": {
   "hash": "a83d184d484b42f44bd208a3a567fe09865825365b61961f9dc589316f15ac1f"
  },
  "kernelspec": {
   "display_name": "Python 3.8.10 ('venv': venv)",
   "language": "python",
   "name": "python3"
  },
  "language_info": {
   "codemirror_mode": {
    "name": "ipython",
    "version": 3
   },
   "file_extension": ".py",
   "mimetype": "text/x-python",
   "name": "python",
   "nbconvert_exporter": "python",
   "pygments_lexer": "ipython3",
   "version": "3.8.10"
  },
  "orig_nbformat": 4
 },
 "nbformat": 4,
 "nbformat_minor": 2
}
