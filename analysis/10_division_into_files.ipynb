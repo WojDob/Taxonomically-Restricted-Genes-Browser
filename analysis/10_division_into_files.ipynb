{
 "cells": [
  {
   "cell_type": "code",
   "execution_count": 2,
   "metadata": {},
   "outputs": [],
   "source": [
    "import json\n",
    "from Bio import SeqIO\n",
    "import os\n"
   ]
  },
  {
   "cell_type": "code",
   "execution_count": 5,
   "metadata": {},
   "outputs": [],
   "source": [
    "f = open(\"../large_data/specific_genes_origins.json\")\n",
    "origin_data = json.load(f)\n",
    "f.close()\n",
    "\n",
    "f = open(\"../data/species_list.json\")\n",
    "species_list = json.load(f)\n",
    "f.close()\n"
   ]
  },
  {
   "cell_type": "code",
   "execution_count": 7,
   "metadata": {},
   "outputs": [],
   "source": [
    "for genus in origin_data:\n",
    "    for species in origin_data[genus]:\n",
    "        origin_data[genus][species][\"genus_specific\"] = set(\n",
    "            origin_data[genus][species][\"genus_specific\"]\n",
    "        )\n",
    "        origin_data[genus][species][\"species_specific\"] = set(\n",
    "            origin_data[genus][species][\"species_specific\"]\n",
    "        )\n"
   ]
  },
  {
   "cell_type": "code",
   "execution_count": 20,
   "metadata": {},
   "outputs": [
    {
     "name": "stdout",
     "output_type": "stream",
     "text": [
      "43\n",
      "367\n",
      "29\n",
      "354\n"
     ]
    }
   ],
   "source": [
    "print(len(origin_data[\"Thermogutta\"][\"GB_GCA_012798155.1\"][\"genus_specific\"]))\n",
    "print(len(origin_data[\"Thermogutta\"][\"GB_GCA_012798155.1\"][\"species_specific\"]))\n",
    "\n",
    "print(len(origin_data[\"Thermogutta\"][\"RS_GCF_002277955.1\"][\"genus_specific\"]))\n",
    "print(len(origin_data[\"Thermogutta\"][\"RS_GCF_002277955.1\"][\"species_specific\"]))\n"
   ]
  },
  {
   "cell_type": "code",
   "execution_count": 29,
   "metadata": {},
   "outputs": [
    {
     "name": "stdout",
     "output_type": "stream",
     "text": [
      "0\n"
     ]
    }
   ],
   "source": [
    "os.system(\"rm ../large_data/sequences/genus/*\")\n",
    "cnt = 0\n",
    "for genus in origin_data:\n",
    "    if cnt % 100 == 0:\n",
    "        print(cnt)\n",
    "    cnt += 1\n",
    "    for species in origin_data[genus]:\n",
    "        genus_specific_ids = origin_data[genus][species][\"genus_specific\"]\n",
    "        species_specific_ids = origin_data[genus][species][\"species_specific\"]\n",
    "        input_file = f\"../large_data/protein_faa_reps/bacteria/{species}_protein.faa\"\n",
    "\n",
    "        species_specific_seqs = (\n",
    "            r for r in SeqIO.parse(input_file, \"fasta\") if r.id in species_specific_ids\n",
    "        )\n",
    "        species_output_file = (\n",
    "            f\"../large_data/sequences/species/{species}_species_specific.fasta\"\n",
    "        )\n",
    "\n",
    "        with open(species_output_file, \"w\") as handle:\n",
    "            for r in species_specific_seqs:\n",
    "                r.id = f\"{genus}|{species}|{r.id}\"\n",
    "                r.description = r.id\n",
    "                SeqIO.write(r, handle, \"fasta\")\n",
    "\n",
    "        genus_specific_seqs = (\n",
    "            r for r in SeqIO.parse(input_file, \"fasta\") if r.id in genus_specific_ids\n",
    "        )\n",
    "        genus_output_file = (\n",
    "            f\"../large_data/sequences/genus/{genus}_genus_specific.fasta\"\n",
    "        )\n",
    "\n",
    "        with open(genus_output_file, \"a\") as handle:\n",
    "            for r in genus_specific_seqs:\n",
    "                r.id = f\"{genus}|{species}|{r.id}\"\n",
    "                r.description = r.id\n",
    "                SeqIO.write(r, handle, \"fasta\")\n",
    "\n",
    "\n"
   ]
  }
 ],
 "metadata": {
  "interpreter": {
   "hash": "a83d184d484b42f44bd208a3a567fe09865825365b61961f9dc589316f15ac1f"
  },
  "kernelspec": {
   "display_name": "Python 3.8.10 ('venv': venv)",
   "language": "python",
   "name": "python3"
  },
  "language_info": {
   "codemirror_mode": {
    "name": "ipython",
    "version": 3
   },
   "file_extension": ".py",
   "mimetype": "text/x-python",
   "name": "python",
   "nbconvert_exporter": "python",
   "pygments_lexer": "ipython3",
   "version": "3.8.10"
  },
  "orig_nbformat": 4
 },
 "nbformat": 4,
 "nbformat_minor": 2
}
