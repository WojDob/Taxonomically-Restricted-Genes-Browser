{
 "cells": [
  {
   "cell_type": "code",
   "execution_count": 41,
   "metadata": {},
   "outputs": [],
   "source": [
    "import json\n",
    "from pprint import pprint\n",
    "import re\n",
    "import csv\n",
    "\n",
    "try:\n",
    "    metadata_file = open(\"../data/metadata.json\", \"r\")\n",
    "except FileNotFoundError:\n",
    "    print(\"\\033[91m\\n\" + \"No metadata file found, aborting\" + \"\\n\\033[0m\")\n",
    "\n",
    "metadata = json.load(metadata_file)\n",
    "\n",
    "metadata_file.close()\n",
    "\n",
    "genuses = set()\n",
    "for genome in metadata:\n",
    "    gn = metadata[genome]\n",
    "    genus = gn[\"lineage\"][5]\n",
    "    genuses.add(genus)\n"
   ]
  },
  {
   "cell_type": "code",
   "execution_count": 42,
   "metadata": {},
   "outputs": [],
   "source": [
    "clustered_counts = dict()\n",
    "for genus in genuses:\n",
    "    with open(f\"../large_data/genuses/{genus}/{genus}_clustered.fasta\") as f:\n",
    "        n = 0\n",
    "        for line in f:\n",
    "            if line.startswith(\">\"):\n",
    "                n += 1\n",
    "    with open(f\"../large_data/genuses/{genus}/{genus}_specific_genes.fasta\") as f:\n",
    "        m = 0\n",
    "        for line in f:\n",
    "            if line.startswith(\">\"):\n",
    "                m += 1\n",
    "    clustered_counts[genus] = [m, n]\n"
   ]
  },
  {
   "cell_type": "code",
   "execution_count": 43,
   "metadata": {},
   "outputs": [],
   "source": [
    "with open(\"../data/clustered_genus_counts.json\", \"w\") as f:\n",
    "    json.dump(clustered_counts, f, indent=4)\n"
   ]
  },
  {
   "cell_type": "code",
   "execution_count": 44,
   "metadata": {},
   "outputs": [],
   "source": [
    "species_count_per_genus = dict()\n",
    "for genus in genuses:\n",
    "    species_count_per_genus[genus] = 0\n",
    "\n",
    "for genome in metadata:\n",
    "    species_count_per_genus[metadata[genome][\"lineage\"][5]] += 1\n"
   ]
  },
  {
   "cell_type": "code",
   "execution_count": 45,
   "metadata": {},
   "outputs": [],
   "source": [
    "def count_orthologs_and_paralogs(cluster_list):\n",
    "    origin_ids = list()\n",
    "    for seq in cluster_list:\n",
    "        origin_ids.append(seq.partition(\"|\")[0])\n",
    "    sequences = len(cluster_list)\n",
    "    orthologs = len(set(origin_ids))\n",
    "    paralogs = sequences - orthologs\n",
    "    return [sequences, orthologs, paralogs]\n",
    "\n",
    "\n",
    "cluster_data = list()\n",
    "for genus in genuses:\n",
    "    with open(f\"../large_data/genuses/{genus}/{genus}_clustered.fasta.clstr\") as f:\n",
    "        cluster = list()\n",
    "        line = f.readline()\n",
    "        while line:\n",
    "            if line.startswith(\">\"):\n",
    "                if cluster:\n",
    "                    result = count_orthologs_and_paralogs(cluster)\n",
    "                    result.extend([genus, species_count_per_genus[genus]])\n",
    "                    cluster_data.append(result)\n",
    "                    cluster = list()\n",
    "            else:\n",
    "                cluster.append(line.partition(\">\")[2].partition(\"...\")[0])\n",
    "            line = f.readline()\n"
   ]
  },
  {
   "cell_type": "code",
   "execution_count": 46,
   "metadata": {},
   "outputs": [],
   "source": [
    "csv_columns = [\n",
    "    \"cluster_size\",\n",
    "    \"orthologs_count\",\n",
    "    \"paralogs_count\",\n",
    "    \"genus\",\n",
    "    \"species_count\",\n",
    "]\n",
    "\n",
    "csv_file = \"../data/clusters.csv\"\n",
    "try:\n",
    "    with open(csv_file, \"w\") as csvfile:\n",
    "        writer = csv.writer(csvfile, delimiter=\";\")\n",
    "        writer.writerow(csv_columns)    \n",
    "        writer.writerows(cluster_data)\n",
    "except IOError:\n",
    "    print(\"I/O error\")\n"
   ]
  },
  {
   "cell_type": "markdown",
   "metadata": {},
   "source": [
    "TOP 20 overall\n",
    "```\n",
    "cluster_size   orthologs_count\tparalogs_count\tgenus\tspecies_count \n",
    "662\t660\t2\tStreptomyces\t762 \n",
    "477\t476\t1\tStreptomyces\t762 \n",
    "361\t360\t1\tStreptomyces\t762 \n",
    "291\t291\t0\tStreptomyces\t762\n",
    "287\t287\t0\tStreptomyces\t762\n",
    "279\t278\t1\tStreptomyces\t762\n",
    "240\t240\t0\tStreptomyces\t762\n",
    "231\t230\t1\tStreptomyces\t762\n",
    "228\t228\t0\tStreptomyces\t762\n",
    "228\t228\t0\tStreptomyces\t762\n",
    "225\t225\t0\tStreptomyces\t762\n",
    "215\t214\t1\tStreptomyces\t762\n",
    "212\t212\t0\tStreptomyces\t762\n",
    "207\t207\t0\tStreptomyces\t762\n",
    "203\t203\t0\tStreptomyces\t762\n",
    "200\t200\t0\tStreptomyces\t762\n",
    "182\t182\t0\tStreptomyces\t762\n",
    "181\t180\t1\tStreptomyces\t762\n",
    "174\t174\t0\tProchlorococcus_A\t265\n",
    "173\t173\t0\tStreptomyces\t762\n",
    "```\n"
   ]
  },
  {
   "cell_type": "markdown",
   "metadata": {},
   "source": [
    "TOP 20 - genus unique\n",
    "```\n",
    "[662, 660, 2, 'Streptomyces', 762]\n",
    "[382, 382, 0, 'Pseudomonas_E', 574]\n",
    "[311, 115, 196, 'Mycobacterium', 339]\n",
    "[292, 1, 291, 'Arsenophonus', 8]\n",
    "[270, 270, 0, 'Collinsella', 316]\n",
    "[174, 174, 0, 'Prochlorococcus_A', 265]\n",
    "[152, 152, 0, 'Pelagibacter', 841]\n",
    "[118, 116, 2, 'Streptococcus', 301]\n",
    "[100, 1, 99, 'Endozoicomonas', 10]\n",
    "[88, 4, 84, 'Spiroplasma', 9]\n",
    "[83, 28, 55, 'Bacillus_A', 52]\n",
    "[62, 62, 0, 'Bradyrhizobium', 132]\n",
    "[59, 1, 58, 'Methyloumidiphilus', 6]\n",
    "[58, 58, 0, 'AG-337-I02', 108]\n",
    "[49, 2, 47, 'Hormoscilla', 3]\n",
    "[45, 45, 0, 'Rhizobium', 133]\n",
    "[43, 43, 0, 'Acinetobacter', 151]\n",
    "[41, 1, 40, 'Crocosphaera', 5]\n",
    "[40, 39, 1, 'Polynucleobacter', 69]\n",
    "[39, 39, 0, 'Flavobacterium', 319]\n",
    "[38, 37, 1, 'HIMB59', 55]\n",
    "```"
   ]
  },
  {
   "cell_type": "code",
   "execution_count": 47,
   "metadata": {},
   "outputs": [
    {
     "name": "stdout",
     "output_type": "stream",
     "text": [
      "[662, 660, 2, 'Streptomyces', 762]\n",
      "[382, 382, 0, 'Pseudomonas_E', 574]\n",
      "[311, 115, 196, 'Mycobacterium', 339]\n",
      "[292, 1, 291, 'Arsenophonus', 8]\n",
      "[270, 270, 0, 'Collinsella', 316]\n",
      "[174, 174, 0, 'Prochlorococcus_A', 265]\n",
      "[152, 152, 0, 'Pelagibacter', 841]\n",
      "[118, 116, 2, 'Streptococcus', 301]\n",
      "[100, 1, 99, 'Endozoicomonas', 10]\n",
      "[88, 4, 84, 'Spiroplasma', 9]\n",
      "[83, 28, 55, 'Bacillus_A', 52]\n",
      "[62, 62, 0, 'Bradyrhizobium', 132]\n",
      "[59, 1, 58, 'Methyloumidiphilus', 6]\n",
      "[58, 58, 0, 'AG-337-I02', 108]\n",
      "[49, 2, 47, 'Hormoscilla', 3]\n",
      "[45, 45, 0, 'Rhizobium', 133]\n",
      "[43, 43, 0, 'Acinetobacter', 151]\n",
      "[41, 1, 40, 'Crocosphaera', 5]\n",
      "[40, 39, 1, 'Polynucleobacter', 69]\n",
      "[39, 39, 0, 'Flavobacterium', 319]\n",
      "[38, 37, 1, 'HIMB59', 55]\n"
     ]
    }
   ],
   "source": [
    "printed = list()\n",
    "n = 0\n",
    "for cluster in sorted(cluster_data, key=lambda x: x[0])[::-1]:\n",
    "    if cluster[3] not in printed:\n",
    "        print(cluster)\n",
    "        printed.append(cluster[3])\n",
    "        n+=1\n",
    "    if n > 20:\n",
    "        break\n"
   ]
  },
  {
   "cell_type": "code",
   "execution_count": 48,
   "metadata": {},
   "outputs": [],
   "source": [
    "how_many_of_each_cluster_size = dict()\n",
    "for cl in cluster_data:\n",
    "    if cl[0] not in how_many_of_each_cluster_size:\n",
    "        how_many_of_each_cluster_size[cl[0]] = 1\n",
    "    else:\n",
    "        how_many_of_each_cluster_size[cl[0]] += 1\n",
    "with open(\"../data/how_many_of_each_cluster_size.json\", \"w\") as outfile:\n",
    "    json.dump(dict(sorted(how_many_of_each_cluster_size.items())), outfile, indent=4)\n"
   ]
  },
  {
   "cell_type": "code",
   "execution_count": 49,
   "metadata": {},
   "outputs": [
    {
     "name": "stdout",
     "output_type": "stream",
     "text": [
      "Number of clusters with size 1: 1862132\n",
      "Number of clusters with size 2: 178807\n",
      "Number of clusters with size 3: 39667\n",
      "Number of clusters with size 4: 14682\n",
      "Number of clusters with size 5: 7218\n",
      "Number of clusters with size 6: 4286\n",
      "Number of clusters with size 7: 2754\n",
      "Number of clusters with size 8: 1897\n",
      "Number of clusters with size 9: 1348\n",
      "Number of clusters with size 10: 894\n"
     ]
    },
    {
     "data": {
      "image/png": "[encoded data removed]",
      "text/plain": [
       "<Figure size 1080x720 with 1 Axes>"
      ]
     },
     "metadata": {
      "needs_background": "light"
     },
     "output_type": "display_data"
    }
   ],
   "source": [
    "import matplotlib.pyplot as plt\n",
    "\n",
    "for i in range(1,11):\n",
    "    print(f\"Number of clusters with size {i}: {how_many_of_each_cluster_size[i]}\")\n",
    "    how_many_of_each_cluster_size.pop(i)\n",
    "    \n",
    "\n",
    "plt.bar(list(how_many_of_each_cluster_size.keys()), how_many_of_each_cluster_size.values())\n",
    "plt.title(\"Histogram of cluster sizes\")\n",
    "plt.xlabel(\"Cluster size\")\n",
    "plt.ylabel(\"Number of clusters\")\n",
    "plt.gcf().set_size_inches(15, 10)\n",
    "plt.show()"
   ]
  }
 ],
 "metadata": {
  "interpreter": {
   "hash": "a83d184d484b42f44bd208a3a567fe09865825365b61961f9dc589316f15ac1f"
  },
  "kernelspec": {
   "display_name": "Python 3.8.10 ('venv': venv)",
   "language": "python",
   "name": "python3"
  },
  "language_info": {
   "codemirror_mode": {
    "name": "ipython",
    "version": 3
   },
   "file_extension": ".py",
   "mimetype": "text/x-python",
   "name": "python",
   "nbconvert_exporter": "python",
   "pygments_lexer": "ipython3",
   "version": "3.8.10"
  },
  "orig_nbformat": 4
 },
 "nbformat": 4,
 "nbformat_minor": 2
}
